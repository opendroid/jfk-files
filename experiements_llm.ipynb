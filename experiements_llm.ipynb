{
 "cells": [
  {
   "cell_type": "markdown",
   "metadata": {},
   "source": [
    "# Use LLM to extract OCR"
   ]
  },
  {
   "cell_type": "code",
   "execution_count": 54,
   "metadata": {},
   "outputs": [],
   "source": [
    "import base64\n",
    "from langchain_ollama import ChatOllama\n",
    "from langchain_core.messages import HumanMessage\n",
    "from IPython.display import Markdown, Image, display"
   ]
  },
  {
   "cell_type": "code",
   "execution_count": 55,
   "metadata": {},
   "outputs": [],
   "source": [
    "def convert_image_to_base64(image_path):\n",
    "    with open(image_path, \"rb\") as img_file:\n",
    "        img_bytes = img_file.read()\n",
    "    image_base64 = base64.b64encode(img_bytes).decode('utf-8')\n",
    "    base64_with_prefix = f\"data:image/png;base64,{image_base64}\"\n",
    "    return base64_with_prefix"
   ]
  },
  {
   "cell_type": "code",
   "execution_count": 56,
   "metadata": {},
   "outputs": [],
   "source": [
    "# Load and convert image to base64\n",
    "# Update with your actual image file path\n",
    "dir = \"/Users/xyz-ai/Developer/data/jfk/images/images/20250318/198-10007-10029/\"\n",
    "image_paths = [\"198-10007-10029_page_001_img_01.png\",\n",
    "            #    \"198-10007-10029_page_002_img_01.png\",\n",
    "            #    \"198-10007-10029_page_003_img_01.png\",\n",
    "            #    \"198-10007-10029_page_004_img_01.png\",\n",
    "            #    \"198-10007-10029_page_005_img_01.png\",\n",
    "            #    \"198-10007-10029_page_006_img_01.png\",\n",
    "            #    \"198-10007-10029_page_007_img_01.png\",\n",
    "            #    \"198-10007-10029_page_008_img_01.png\",\n",
    "]\n",
    "\n",
    "images_base64 = []\n",
    "for image_path in image_paths:\n",
    "    image_base64 = convert_image_to_base64(dir+image_path)\n",
    "    images_base64.append(image_base64)"
   ]
  },
  {
   "cell_type": "code",
   "execution_count": 57,
   "metadata": {},
   "outputs": [],
   "source": [
    "#display(Image(data=base64.b64decode(images_base64[0])))"
   ]
  },
  {
   "cell_type": "code",
   "execution_count": 69,
   "metadata": {},
   "outputs": [],
   "source": [
    "prompt1 = \"\"\"You are an expert OCR and text interpretation system. Your task is to accurately extract\n",
    "and interpret text from images. The images are related to the JFK assassination legally released documents.\n",
    "You will receive one or more images,\n",
    "primarily containing English text from the 1960s.\n",
    "Some text may be typewritten, and some may be handwritten.\n",
    "\n",
    "[User Instruction]\n",
    "For each image provided, perform the following:\n",
    "\n",
    "1. **Accurate Text Extraction:** Extract all visible text, including both typewritten and handwritten portions, with high fidelity.\n",
    "2. **Contextual Interpretation:** If the handwritten text is unclear or ambiguous, use contextual clues from the surrounding typewritten text or other visible elements to interpret it correctly. Aim for the most likely and accurate interpretation.\n",
    "3. **Clear Presentation:** Present the extracted and interpreted text clearly, labeling each image's output distinctly (e.g., \"Image 1:\", \"Image 2:\"). Maintain the original reading order as much as possible.\n",
    "4. **Preserve Formatting:** If the text has any apparent formatting (e.g., line breaks, indentation), attempt to preserve it in your output.\n",
    "5. **Handle Imperfections:** Acknowledge and attempt to correct for common OCR errors, such as misreading similar characters (e.g., \"l\" vs. \"1\", \"O\" vs. \"0\").\n",
    "\"\"\""
   ]
  },
  {
   "cell_type": "code",
   "execution_count": 73,
   "metadata": {},
   "outputs": [],
   "source": [
    "prompt2 = \"\"\"You will receive one or more images containing English text.\n",
    "The text is primarily typewritten in a 1960s style, though some sections may include handwritten notes.\n",
    "Your task is to:\n",
    "1. Extract all visible text from each image as accurately as possible.\n",
    "2. Preserve the original formatting of the text, sections, subsection,\n",
    "   including line breaks and indentation.\n",
    "3. For handwritten portions, use contextual clues from the surrounding\n",
    "   typewritten text or image content to interpret unclear or ambiguous writing.\n",
    "4. If any text is illegible due to poor image quality, fading, or other\n",
    "   factors, indicate this with \"[illegible]\" and provide your best guess where\n",
    "   feasible.\n",
    "4. Present the extracted text for each image in a clear, organized format,\n",
    "separating typewritten and handwritten sections if applicable.\n",
    "\"\"\""
   ]
  },
  {
   "cell_type": "code",
   "execution_count": 74,
   "metadata": {},
   "outputs": [],
   "source": [
    "# Create message with image and prompt\n",
    "message = HumanMessage(\n",
    "        content=[\n",
    "            {\"type\": \"text\", \"text\": prompt2},\n",
    "            {\"type\": \"image_url\", \"image_url\": f\"{images_base64[0]}\"}\n",
    "        ]\n",
    ")"
   ]
  },
  {
   "cell_type": "code",
   "execution_count": 75,
   "metadata": {},
   "outputs": [],
   "source": [
    "# Initialize the vision-enabled LLM\n",
    "llm = llm = ChatOllama(\n",
    "    model=\"llama3.2-vision:90b\",\n",
    "    temperature=0,\n",
    "    base_url=\"http://localhost:11434\"  # Default Ollama local URL\n",
    ")\n",
    "\n",
    "# Invoke the model with text and the base64-encoded image\n",
    "\n",
    "response = llm.invoke([message])"
   ]
  },
  {
   "cell_type": "code",
   "execution_count": 76,
   "metadata": {},
   "outputs": [
    {
     "data": {
      "text/markdown": [
       "**Document Title:** 2025 RELEASE UNDER THE PRESIDENT JOHN F. KENNEDY ASSASSINATION RECORDS ACT OF 1992\n",
       "\n",
       "**Document Type:** Identification Form\n",
       "\n",
       "**Agency Information:**\n",
       "\n",
       "* **Agency:** ARMY\n",
       "* **Record Number:** 198-10007-10029\n",
       "* **Record Series:** CALIFANO PAPERS\n",
       "\n",
       "**Originator Information:**\n",
       "\n",
       "* **Name:** C. TRACY BARNES\n",
       "* **Title:** CIA\n",
       "\n",
       "**Document Details:**\n",
       "\n",
       "* **Title:** REPORT ON THE COLD WAR USE OF RADIO BROADCASTING BY CIA\n",
       "* **Date:** 06/25/1953\n",
       "* **Pages:** 15\n",
       "\n",
       "**Classification and Restrictions:**\n",
       "\n",
       "* **Classification:** SECRET\n",
       "* **Restrictions:** 1A; 1B\n",
       "\n",
       "**Current Status:**\n",
       "\n",
       "* **Status:** Redact\n",
       "\n",
       "**Last Review Date:**\n",
       "\n",
       "* **Date:** 04/03/1998\n",
       "\n",
       "**Opening Criteria:**\n",
       "\n",
       "* **Criteria:** Califano Papers, Box 1, Folder 2. Memo from Barnes re: Report on the Cold War Use of Radio Broadcasting by CIA.\n",
       "\n",
       "**Comments Section:**\n",
       "\n",
       "* **Comment:** [Illegible]\n",
       "\n",
       "**Signature Block:**\n",
       "\n",
       "* **Name:** J.F.K. Rowan\n",
       "* **Title:** Department of the Army EO 13526\n",
       "\n",
       "**Declassification Information:**\n",
       "\n",
       "* **Declassify:** [Illegible]\n",
       "* **Exclude:** [Illegible]\n",
       "* **Exempt:** [Illegible]\n",
       "\n",
       "**Authority Section:**\n",
       "\n",
       "* **Authority:** [Illegible]\n",
       "\n",
       "**Refer To Section:**\n",
       "\n",
       "* **Refer To:** [Illegible]\n",
       "\n",
       "**Review Date Section:**\n",
       "\n",
       "* **Review Date:** [Illegible]"
      ],
      "text/plain": [
       "<IPython.core.display.Markdown object>"
      ]
     },
     "metadata": {},
     "output_type": "display_data"
    }
   ],
   "source": [
    "display(Markdown(response.content))"
   ]
  },
  {
   "cell_type": "code",
   "execution_count": null,
   "metadata": {},
   "outputs": [],
   "source": []
  }
 ],
 "metadata": {
  "kernelspec": {
   "display_name": ".venv",
   "language": "python",
   "name": "python3"
  },
  "language_info": {
   "codemirror_mode": {
    "name": "ipython",
    "version": 3
   },
   "file_extension": ".py",
   "mimetype": "text/x-python",
   "name": "python",
   "nbconvert_exporter": "python",
   "pygments_lexer": "ipython3",
   "version": "3.13.2"
  }
 },
 "nbformat": 4,
 "nbformat_minor": 2
}
